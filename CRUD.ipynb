{
  "nbformat": 4,
  "nbformat_minor": 0,
  "metadata": {
    "colab": {
      "name": "CRUD",
      "provenance": []
    },
    "kernelspec": {
      "name": "python3",
      "display_name": "Python 3"
    },
    "language_info": {
      "name": "python"
    }
  },
  "cells": [
    {
      "cell_type": "code",
      "metadata": {
        "colab": {
          "base_uri": "https://localhost:8080/",
          "height": 35
        },
        "id": "r1F8uHd3NDJj",
        "outputId": "c6add821-6de3-4df1-d7dd-226ee76b69b8"
      },
      "source": [
        "%load_ext sql\n",
        "\n",
        "%sql sqlite://"
      ],
      "execution_count": 1,
      "outputs": [
        {
          "output_type": "execute_result",
          "data": {
            "application/vnd.google.colaboratory.intrinsic+json": {
              "type": "string"
            },
            "text/plain": [
              "'Connected: @None'"
            ]
          },
          "metadata": {
            "tags": []
          },
          "execution_count": 1
        }
      ]
    },
    {
      "cell_type": "code",
      "metadata": {
        "id": "Xvlk84CLOeJE"
      },
      "source": [
        "import pandas as pd\n",
        "\n",
        "import csv"
      ],
      "execution_count": 2,
      "outputs": []
    },
    {
      "cell_type": "code",
      "metadata": {
        "colab": {
          "base_uri": "https://localhost:8080/",
          "height": 196
        },
        "id": "f4nigUImOmnR",
        "outputId": "be08c439-7000-4fd7-ccac-6cfcaf8694d1"
      },
      "source": [
        "with open('Students.csv','r') as f:\n",
        "  students = pd.read_csv(f, index_col=0, encoding='utf-8')\n",
        "\n",
        "%sql PERSIST students;\n",
        "\n",
        "%sql SELECT * FROM students LIMIT 5;"
      ],
      "execution_count": 3,
      "outputs": [
        {
          "output_type": "stream",
          "text": [
            " * sqlite://\n",
            " * sqlite://\n",
            "Done.\n"
          ],
          "name": "stdout"
        },
        {
          "output_type": "execute_result",
          "data": {
            "text/html": [
              "<table>\n",
              "    <thead>\n",
              "        <tr>\n",
              "            <th>id</th>\n",
              "            <th>first_name</th>\n",
              "            <th>last_name</th>\n",
              "            <th>email</th>\n",
              "            <th>gender</th>\n",
              "            <th>ip_address</th>\n",
              "        </tr>\n",
              "    </thead>\n",
              "    <tbody>\n",
              "        <tr>\n",
              "            <td>1</td>\n",
              "            <td>Jacquie</td>\n",
              "            <td>Stansfield</td>\n",
              "            <td>jstansfield0@nhs.uk</td>\n",
              "            <td>Female</td>\n",
              "            <td>78646 Commercial Point</td>\n",
              "        </tr>\n",
              "        <tr>\n",
              "            <td>2</td>\n",
              "            <td>Daisi</td>\n",
              "            <td>Fibbings</td>\n",
              "            <td>dfibbings1@chron.com</td>\n",
              "            <td>Male</td>\n",
              "            <td>0752 Lakeland Street</td>\n",
              "        </tr>\n",
              "        <tr>\n",
              "            <td>3</td>\n",
              "            <td>Faunie</td>\n",
              "            <td>Hrihorovich</td>\n",
              "            <td>fhrihorovich2@telegraph.co.uk</td>\n",
              "            <td>Male</td>\n",
              "            <td>02963 David Pass</td>\n",
              "        </tr>\n",
              "        <tr>\n",
              "            <td>4</td>\n",
              "            <td>Madelaine</td>\n",
              "            <td>Pearcey</td>\n",
              "            <td>mpearcey3@wikia.com</td>\n",
              "            <td>Male</td>\n",
              "            <td>934 Hudson Alley</td>\n",
              "        </tr>\n",
              "        <tr>\n",
              "            <td>5</td>\n",
              "            <td>Loreen</td>\n",
              "            <td>Ragbourne</td>\n",
              "            <td>lragbourne4@abc.net.au</td>\n",
              "            <td>Male</td>\n",
              "            <td>3 International Junction</td>\n",
              "        </tr>\n",
              "    </tbody>\n",
              "</table>"
            ],
            "text/plain": [
              "[(1, 'Jacquie', 'Stansfield', 'jstansfield0@nhs.uk', 'Female', '78646 Commercial Point'),\n",
              " (2, 'Daisi', 'Fibbings', 'dfibbings1@chron.com', 'Male', '0752 Lakeland Street'),\n",
              " (3, 'Faunie', 'Hrihorovich', 'fhrihorovich2@telegraph.co.uk', 'Male', '02963 David Pass'),\n",
              " (4, 'Madelaine', 'Pearcey', 'mpearcey3@wikia.com', 'Male', '934 Hudson Alley'),\n",
              " (5, 'Loreen', 'Ragbourne', 'lragbourne4@abc.net.au', 'Male', '3 International Junction')]"
            ]
          },
          "metadata": {
            "tags": []
          },
          "execution_count": 3
        }
      ]
    },
    {
      "cell_type": "code",
      "metadata": {
        "colab": {
          "base_uri": "https://localhost:8080/",
          "height": 196
        },
        "id": "DLjFdQGeRB-I",
        "outputId": "dc51df3a-2983-4d92-8cf8-01adddae6865"
      },
      "source": [
        "# lets update daisi last name to wanjiku from  the students table\n",
        "\n",
        "%%sql\n",
        "\n",
        "UPDATE students\n",
        "\n",
        "SET last_name = \"Wanjiku\"\n",
        "\n",
        "WHERE first_name = \"Daisi\";\n",
        "\n",
        "SELECT * FROM students LIMIT 5;\n",
        "\n"
      ],
      "execution_count": 4,
      "outputs": [
        {
          "output_type": "stream",
          "text": [
            " * sqlite://\n",
            "1 rows affected.\n",
            "Done.\n"
          ],
          "name": "stdout"
        },
        {
          "output_type": "execute_result",
          "data": {
            "text/html": [
              "<table>\n",
              "    <thead>\n",
              "        <tr>\n",
              "            <th>id</th>\n",
              "            <th>first_name</th>\n",
              "            <th>last_name</th>\n",
              "            <th>email</th>\n",
              "            <th>gender</th>\n",
              "            <th>ip_address</th>\n",
              "        </tr>\n",
              "    </thead>\n",
              "    <tbody>\n",
              "        <tr>\n",
              "            <td>1</td>\n",
              "            <td>Jacquie</td>\n",
              "            <td>Stansfield</td>\n",
              "            <td>jstansfield0@nhs.uk</td>\n",
              "            <td>Female</td>\n",
              "            <td>78646 Commercial Point</td>\n",
              "        </tr>\n",
              "        <tr>\n",
              "            <td>2</td>\n",
              "            <td>Daisi</td>\n",
              "            <td>Wanjiku</td>\n",
              "            <td>dfibbings1@chron.com</td>\n",
              "            <td>Male</td>\n",
              "            <td>0752 Lakeland Street</td>\n",
              "        </tr>\n",
              "        <tr>\n",
              "            <td>3</td>\n",
              "            <td>Faunie</td>\n",
              "            <td>Hrihorovich</td>\n",
              "            <td>fhrihorovich2@telegraph.co.uk</td>\n",
              "            <td>Male</td>\n",
              "            <td>02963 David Pass</td>\n",
              "        </tr>\n",
              "        <tr>\n",
              "            <td>4</td>\n",
              "            <td>Madelaine</td>\n",
              "            <td>Pearcey</td>\n",
              "            <td>mpearcey3@wikia.com</td>\n",
              "            <td>Male</td>\n",
              "            <td>934 Hudson Alley</td>\n",
              "        </tr>\n",
              "        <tr>\n",
              "            <td>5</td>\n",
              "            <td>Loreen</td>\n",
              "            <td>Ragbourne</td>\n",
              "            <td>lragbourne4@abc.net.au</td>\n",
              "            <td>Male</td>\n",
              "            <td>3 International Junction</td>\n",
              "        </tr>\n",
              "    </tbody>\n",
              "</table>"
            ],
            "text/plain": [
              "[(1, 'Jacquie', 'Stansfield', 'jstansfield0@nhs.uk', 'Female', '78646 Commercial Point'),\n",
              " (2, 'Daisi', 'Wanjiku', 'dfibbings1@chron.com', 'Male', '0752 Lakeland Street'),\n",
              " (3, 'Faunie', 'Hrihorovich', 'fhrihorovich2@telegraph.co.uk', 'Male', '02963 David Pass'),\n",
              " (4, 'Madelaine', 'Pearcey', 'mpearcey3@wikia.com', 'Male', '934 Hudson Alley'),\n",
              " (5, 'Loreen', 'Ragbourne', 'lragbourne4@abc.net.au', 'Male', '3 International Junction')]"
            ]
          },
          "metadata": {
            "tags": []
          },
          "execution_count": 4
        }
      ]
    },
    {
      "cell_type": "code",
      "metadata": {
        "colab": {
          "base_uri": "https://localhost:8080/",
          "height": 196
        },
        "id": "YCkwUvXmUdmL",
        "outputId": "a01a0add-d04e-441e-b5bd-7eef3971566d"
      },
      "source": [
        "# lets delete loreen ragbourne from our dataset\n",
        "\n",
        "%%sql\n",
        "\n",
        "DELETE FROM students WHERE id = 4;\n",
        "\n",
        "SELECT * FROM students LIMIT 5;"
      ],
      "execution_count": 11,
      "outputs": [
        {
          "output_type": "stream",
          "text": [
            " * sqlite://\n",
            "0 rows affected.\n",
            "Done.\n"
          ],
          "name": "stdout"
        },
        {
          "output_type": "execute_result",
          "data": {
            "text/html": [
              "<table>\n",
              "    <thead>\n",
              "        <tr>\n",
              "            <th>id</th>\n",
              "            <th>first_name</th>\n",
              "            <th>last_name</th>\n",
              "            <th>email</th>\n",
              "            <th>gender</th>\n",
              "            <th>ip_address</th>\n",
              "        </tr>\n",
              "    </thead>\n",
              "    <tbody>\n",
              "        <tr>\n",
              "            <td>1</td>\n",
              "            <td>Jacquie</td>\n",
              "            <td>Stansfield</td>\n",
              "            <td>jstansfield0@nhs.uk</td>\n",
              "            <td>Female</td>\n",
              "            <td>78646 Commercial Point</td>\n",
              "        </tr>\n",
              "        <tr>\n",
              "            <td>2</td>\n",
              "            <td>Daisi</td>\n",
              "            <td>Wanjiku</td>\n",
              "            <td>dfibbings1@chron.com</td>\n",
              "            <td>Male</td>\n",
              "            <td>0752 Lakeland Street</td>\n",
              "        </tr>\n",
              "        <tr>\n",
              "            <td>3</td>\n",
              "            <td>Faunie</td>\n",
              "            <td>Hrihorovich</td>\n",
              "            <td>fhrihorovich2@telegraph.co.uk</td>\n",
              "            <td>Male</td>\n",
              "            <td>02963 David Pass</td>\n",
              "        </tr>\n",
              "        <tr>\n",
              "            <td>5</td>\n",
              "            <td>Loreen</td>\n",
              "            <td>Ragbourne</td>\n",
              "            <td>lragbourne4@abc.net.au</td>\n",
              "            <td>Male</td>\n",
              "            <td>3 International Junction</td>\n",
              "        </tr>\n",
              "        <tr>\n",
              "            <td>6</td>\n",
              "            <td>Arlena</td>\n",
              "            <td>Marvel</td>\n",
              "            <td>amarvel5@angelfire.com</td>\n",
              "            <td>Male</td>\n",
              "            <td>33 Lillian Court</td>\n",
              "        </tr>\n",
              "    </tbody>\n",
              "</table>"
            ],
            "text/plain": [
              "[(1, 'Jacquie', 'Stansfield', 'jstansfield0@nhs.uk', 'Female', '78646 Commercial Point'),\n",
              " (2, 'Daisi', 'Wanjiku', 'dfibbings1@chron.com', 'Male', '0752 Lakeland Street'),\n",
              " (3, 'Faunie', 'Hrihorovich', 'fhrihorovich2@telegraph.co.uk', 'Male', '02963 David Pass'),\n",
              " (5, 'Loreen', 'Ragbourne', 'lragbourne4@abc.net.au', 'Male', '3 International Junction'),\n",
              " (6, 'Arlena', 'Marvel', 'amarvel5@angelfire.com', 'Male', '33 Lillian Court')]"
            ]
          },
          "metadata": {
            "tags": []
          },
          "execution_count": 11
        }
      ]
    },
    {
      "cell_type": "code",
      "metadata": {
        "id": "qdUpZV50cYVU"
      },
      "source": [
        ""
      ],
      "execution_count": null,
      "outputs": []
    }
  ]
}